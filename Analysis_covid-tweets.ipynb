{
 "cells": [
  {
   "cell_type": "markdown",
   "id": "3bd5e91e",
   "metadata": {},
   "source": [
    "# MAJOR PROJECT "
   ]
  },
  {
   "cell_type": "markdown",
   "id": "1845f558",
   "metadata": {},
   "source": [
    "# PROBLEM STATEMENT - Create a classification model to predict the sentiment either (Positive or Negative) based on Covid Tweets."
   ]
  },
  {
   "cell_type": "code",
   "execution_count": 53,
   "id": "44aa2e94",
   "metadata": {},
   "outputs": [],
   "source": [
    "import pandas as pd\n",
    "import numpy as np\n",
    "from numpy import percentile\n",
    "import matplotlib.pyplot as plt\n",
    "import seaborn as sns\n",
    "import matplotlib\n",
    "import re \n",
    "import pandas as pd \n",
    "import string\n",
    "import nltk \n",
    "from nltk.stem.porter import *\n",
    "from tqdm import tqdm\n",
    "from sklearn.feature_extraction.text import TfidfVectorizer, CountVectorizer\n",
    "from sklearn.metrics import mean_squared_error,mean_absolute_error, make_scorer,classification_report,confusion_matrix,accuracy_score,roc_auc_score,roc_curve\n",
    "from sklearn.model_selection import train_test_split,cross_val_score,KFold\n",
    "from sklearn.naive_bayes import BernoulliNB\n",
    "from sklearn import svm\n",
    "import warnings \n",
    "warnings.filterwarnings(\"ignore\")"
   ]
  },
  {
   "cell_type": "code",
   "execution_count": 4,
   "id": "afb52654",
   "metadata": {},
   "outputs": [],
   "source": [
    "df=pd.read_csv(\"Corona_NLP.csv\",encoding='latin-1')"
   ]
  },
  {
   "cell_type": "code",
   "execution_count": 5,
   "id": "dfd9fb48",
   "metadata": {},
   "outputs": [
    {
     "data": {
      "text/html": [
       "<div>\n",
       "<style scoped>\n",
       "    .dataframe tbody tr th:only-of-type {\n",
       "        vertical-align: middle;\n",
       "    }\n",
       "\n",
       "    .dataframe tbody tr th {\n",
       "        vertical-align: top;\n",
       "    }\n",
       "\n",
       "    .dataframe thead th {\n",
       "        text-align: right;\n",
       "    }\n",
       "</style>\n",
       "<table border=\"1\" class=\"dataframe\">\n",
       "  <thead>\n",
       "    <tr style=\"text-align: right;\">\n",
       "      <th></th>\n",
       "      <th>UserName</th>\n",
       "      <th>ScreenName</th>\n",
       "      <th>Location</th>\n",
       "      <th>TweetAt</th>\n",
       "      <th>OriginalTweet</th>\n",
       "      <th>Sentiment</th>\n",
       "    </tr>\n",
       "  </thead>\n",
       "  <tbody>\n",
       "    <tr>\n",
       "      <th>0</th>\n",
       "      <td>3799</td>\n",
       "      <td>48751</td>\n",
       "      <td>London</td>\n",
       "      <td>16-03-2020</td>\n",
       "      <td>@MeNyrbie @Phil_Gahan @Chrisitv https://t.co/iFz9FAn2Pa and https://t.co/xX6ghGFzCC and https://t.co/I2NlzdxNo8</td>\n",
       "      <td>Neutral</td>\n",
       "    </tr>\n",
       "    <tr>\n",
       "      <th>1</th>\n",
       "      <td>3800</td>\n",
       "      <td>48752</td>\n",
       "      <td>UK</td>\n",
       "      <td>16-03-2020</td>\n",
       "      <td>advice Talk to your neighbours family to exchange phone numbers create contact list with phone numbers of neighbours schools employer chemist GP set up online shopping accounts if poss adequate su...</td>\n",
       "      <td>Positive</td>\n",
       "    </tr>\n",
       "    <tr>\n",
       "      <th>2</th>\n",
       "      <td>3801</td>\n",
       "      <td>48753</td>\n",
       "      <td>Vagabonds</td>\n",
       "      <td>16-03-2020</td>\n",
       "      <td>Coronavirus Australia: Woolworths to give elderly, disabled dedicated shopping hours amid COVID-19 outbreak https://t.co/bInCA9Vp8P</td>\n",
       "      <td>Positive</td>\n",
       "    </tr>\n",
       "    <tr>\n",
       "      <th>3</th>\n",
       "      <td>3802</td>\n",
       "      <td>48754</td>\n",
       "      <td>NaN</td>\n",
       "      <td>16-03-2020</td>\n",
       "      <td>My food stock is not the only one which is empty...\\r\\r\\n\\r\\r\\nPLEASE, don't panic, THERE WILL BE ENOUGH FOOD FOR EVERYONE if you do not take more than you need. \\r\\r\\nStay calm, stay safe.\\r\\r\\n\\...</td>\n",
       "      <td>Positive</td>\n",
       "    </tr>\n",
       "    <tr>\n",
       "      <th>4</th>\n",
       "      <td>3803</td>\n",
       "      <td>48755</td>\n",
       "      <td>NaN</td>\n",
       "      <td>16-03-2020</td>\n",
       "      <td>Me, ready to go at supermarket during the #COVID19 outbreak.\\r\\r\\n\\r\\r\\nNot because I'm paranoid, but because my food stock is litteraly empty. The #coronavirus is a serious thing, but please, don...</td>\n",
       "      <td>Extremely Negative</td>\n",
       "    </tr>\n",
       "  </tbody>\n",
       "</table>\n",
       "</div>"
      ],
      "text/plain": [
       "   UserName  ScreenName   Location     TweetAt  \\\n",
       "0      3799       48751     London  16-03-2020   \n",
       "1      3800       48752         UK  16-03-2020   \n",
       "2      3801       48753  Vagabonds  16-03-2020   \n",
       "3      3802       48754        NaN  16-03-2020   \n",
       "4      3803       48755        NaN  16-03-2020   \n",
       "\n",
       "                                                                                                                                                                                             OriginalTweet  \\\n",
       "0                                                                                          @MeNyrbie @Phil_Gahan @Chrisitv https://t.co/iFz9FAn2Pa and https://t.co/xX6ghGFzCC and https://t.co/I2NlzdxNo8   \n",
       "1  advice Talk to your neighbours family to exchange phone numbers create contact list with phone numbers of neighbours schools employer chemist GP set up online shopping accounts if poss adequate su...   \n",
       "2                                                                      Coronavirus Australia: Woolworths to give elderly, disabled dedicated shopping hours amid COVID-19 outbreak https://t.co/bInCA9Vp8P   \n",
       "3  My food stock is not the only one which is empty...\\r\\r\\n\\r\\r\\nPLEASE, don't panic, THERE WILL BE ENOUGH FOOD FOR EVERYONE if you do not take more than you need. \\r\\r\\nStay calm, stay safe.\\r\\r\\n\\...   \n",
       "4  Me, ready to go at supermarket during the #COVID19 outbreak.\\r\\r\\n\\r\\r\\nNot because I'm paranoid, but because my food stock is litteraly empty. The #coronavirus is a serious thing, but please, don...   \n",
       "\n",
       "            Sentiment  \n",
       "0             Neutral  \n",
       "1            Positive  \n",
       "2            Positive  \n",
       "3            Positive  \n",
       "4  Extremely Negative  "
      ]
     },
     "execution_count": 5,
     "metadata": {},
     "output_type": "execute_result"
    }
   ],
   "source": [
    "df.head()"
   ]
  },
  {
   "cell_type": "code",
   "execution_count": 6,
   "id": "5c83eb33",
   "metadata": {},
   "outputs": [
    {
     "name": "stdout",
     "output_type": "stream",
     "text": [
      "<class 'pandas.core.frame.DataFrame'>\n",
      "RangeIndex: 41157 entries, 0 to 41156\n",
      "Data columns (total 6 columns):\n",
      " #   Column         Non-Null Count  Dtype \n",
      "---  ------         --------------  ----- \n",
      " 0   UserName       41157 non-null  int64 \n",
      " 1   ScreenName     41157 non-null  int64 \n",
      " 2   Location       32567 non-null  object\n",
      " 3   TweetAt        41157 non-null  object\n",
      " 4   OriginalTweet  41157 non-null  object\n",
      " 5   Sentiment      41157 non-null  object\n",
      "dtypes: int64(2), object(4)\n",
      "memory usage: 1.9+ MB\n"
     ]
    }
   ],
   "source": [
    "df.info()"
   ]
  },
  {
   "cell_type": "code",
   "execution_count": 7,
   "id": "fb73b0ac",
   "metadata": {},
   "outputs": [
    {
     "data": {
      "text/html": [
       "<div>\n",
       "<style scoped>\n",
       "    .dataframe tbody tr th:only-of-type {\n",
       "        vertical-align: middle;\n",
       "    }\n",
       "\n",
       "    .dataframe tbody tr th {\n",
       "        vertical-align: top;\n",
       "    }\n",
       "\n",
       "    .dataframe thead th {\n",
       "        text-align: right;\n",
       "    }\n",
       "</style>\n",
       "<table border=\"1\" class=\"dataframe\">\n",
       "  <thead>\n",
       "    <tr style=\"text-align: right;\">\n",
       "      <th></th>\n",
       "      <th>UserName</th>\n",
       "      <th>ScreenName</th>\n",
       "    </tr>\n",
       "  </thead>\n",
       "  <tbody>\n",
       "    <tr>\n",
       "      <th>count</th>\n",
       "      <td>41157.000000</td>\n",
       "      <td>41157.000000</td>\n",
       "    </tr>\n",
       "    <tr>\n",
       "      <th>mean</th>\n",
       "      <td>24377.000000</td>\n",
       "      <td>69329.000000</td>\n",
       "    </tr>\n",
       "    <tr>\n",
       "      <th>std</th>\n",
       "      <td>11881.146851</td>\n",
       "      <td>11881.146851</td>\n",
       "    </tr>\n",
       "    <tr>\n",
       "      <th>min</th>\n",
       "      <td>3799.000000</td>\n",
       "      <td>48751.000000</td>\n",
       "    </tr>\n",
       "    <tr>\n",
       "      <th>25%</th>\n",
       "      <td>14088.000000</td>\n",
       "      <td>59040.000000</td>\n",
       "    </tr>\n",
       "    <tr>\n",
       "      <th>50%</th>\n",
       "      <td>24377.000000</td>\n",
       "      <td>69329.000000</td>\n",
       "    </tr>\n",
       "    <tr>\n",
       "      <th>75%</th>\n",
       "      <td>34666.000000</td>\n",
       "      <td>79618.000000</td>\n",
       "    </tr>\n",
       "    <tr>\n",
       "      <th>max</th>\n",
       "      <td>44955.000000</td>\n",
       "      <td>89907.000000</td>\n",
       "    </tr>\n",
       "  </tbody>\n",
       "</table>\n",
       "</div>"
      ],
      "text/plain": [
       "           UserName    ScreenName\n",
       "count  41157.000000  41157.000000\n",
       "mean   24377.000000  69329.000000\n",
       "std    11881.146851  11881.146851\n",
       "min     3799.000000  48751.000000\n",
       "25%    14088.000000  59040.000000\n",
       "50%    24377.000000  69329.000000\n",
       "75%    34666.000000  79618.000000\n",
       "max    44955.000000  89907.000000"
      ]
     },
     "execution_count": 7,
     "metadata": {},
     "output_type": "execute_result"
    }
   ],
   "source": [
    "df.describe()"
   ]
  },
  {
   "cell_type": "code",
   "execution_count": 8,
   "id": "55ae78ec",
   "metadata": {},
   "outputs": [
    {
     "data": {
      "text/plain": [
       "(41157, 6)"
      ]
     },
     "execution_count": 8,
     "metadata": {},
     "output_type": "execute_result"
    }
   ],
   "source": [
    "df.shape\n"
   ]
  },
  {
   "cell_type": "code",
   "execution_count": 9,
   "id": "9d6d276d",
   "metadata": {},
   "outputs": [
    {
     "data": {
      "text/plain": [
       "Index(['UserName', 'ScreenName', 'Location', 'TweetAt', 'OriginalTweet',\n",
       "       'Sentiment'],\n",
       "      dtype='object')"
      ]
     },
     "execution_count": 9,
     "metadata": {},
     "output_type": "execute_result"
    }
   ],
   "source": [
    "df.columns"
   ]
  },
  {
   "cell_type": "markdown",
   "id": "20c4e95e",
   "metadata": {},
   "source": [
    "# REMOVING NULL VALUES "
   ]
  },
  {
   "cell_type": "code",
   "execution_count": 10,
   "id": "80802ed5",
   "metadata": {},
   "outputs": [
    {
     "data": {
      "text/plain": [
       "UserName            0\n",
       "ScreenName          0\n",
       "Location         8590\n",
       "TweetAt             0\n",
       "OriginalTweet       0\n",
       "Sentiment           0\n",
       "dtype: int64"
      ]
     },
     "execution_count": 10,
     "metadata": {},
     "output_type": "execute_result"
    }
   ],
   "source": [
    "df.isnull().sum()"
   ]
  },
  {
   "cell_type": "code",
   "execution_count": 11,
   "id": "b47eee79",
   "metadata": {},
   "outputs": [
    {
     "data": {
      "text/plain": [
       "UserName         0\n",
       "ScreenName       0\n",
       "Location         0\n",
       "TweetAt          0\n",
       "OriginalTweet    0\n",
       "Sentiment        0\n",
       "dtype: int64"
      ]
     },
     "execution_count": 11,
     "metadata": {},
     "output_type": "execute_result"
    }
   ],
   "source": [
    "df[\"Location\"]=df[\"Location\"].fillna('U')\n",
    "df.isnull().sum()"
   ]
  },
  {
   "cell_type": "markdown",
   "id": "548f4955",
   "metadata": {},
   "source": [
    "# EXPLORING THE DATA "
   ]
  },
  {
   "cell_type": "code",
   "execution_count": 12,
   "id": "b8c99357",
   "metadata": {},
   "outputs": [
    {
     "data": {
      "text/html": [
       "<div>\n",
       "<style scoped>\n",
       "    .dataframe tbody tr th:only-of-type {\n",
       "        vertical-align: middle;\n",
       "    }\n",
       "\n",
       "    .dataframe tbody tr th {\n",
       "        vertical-align: top;\n",
       "    }\n",
       "\n",
       "    .dataframe thead th {\n",
       "        text-align: right;\n",
       "    }\n",
       "</style>\n",
       "<table border=\"1\" class=\"dataframe\">\n",
       "  <thead>\n",
       "    <tr style=\"text-align: right;\">\n",
       "      <th></th>\n",
       "      <th>UserName</th>\n",
       "      <th>ScreenName</th>\n",
       "      <th>Location</th>\n",
       "      <th>TweetAt</th>\n",
       "      <th>OriginalTweet</th>\n",
       "      <th>Sentiment</th>\n",
       "    </tr>\n",
       "  </thead>\n",
       "  <tbody>\n",
       "    <tr>\n",
       "      <th>0</th>\n",
       "      <td>3799</td>\n",
       "      <td>48751</td>\n",
       "      <td>London</td>\n",
       "      <td>16-03-2020</td>\n",
       "      <td>@MeNyrbie @Phil_Gahan @Chrisitv https://t.co/iFz9FAn2Pa and https://t.co/xX6ghGFzCC and https://t.co/I2NlzdxNo8</td>\n",
       "      <td>Neutral</td>\n",
       "    </tr>\n",
       "    <tr>\n",
       "      <th>1</th>\n",
       "      <td>3800</td>\n",
       "      <td>48752</td>\n",
       "      <td>UK</td>\n",
       "      <td>16-03-2020</td>\n",
       "      <td>advice Talk to your neighbours family to exchange phone numbers create contact list with phone numbers of neighbours schools employer chemist GP set up online shopping accounts if poss adequate su...</td>\n",
       "      <td>Positive</td>\n",
       "    </tr>\n",
       "    <tr>\n",
       "      <th>2</th>\n",
       "      <td>3801</td>\n",
       "      <td>48753</td>\n",
       "      <td>Vagabonds</td>\n",
       "      <td>16-03-2020</td>\n",
       "      <td>Coronavirus Australia: Woolworths to give elderly, disabled dedicated shopping hours amid COVID-19 outbreak https://t.co/bInCA9Vp8P</td>\n",
       "      <td>Positive</td>\n",
       "    </tr>\n",
       "    <tr>\n",
       "      <th>3</th>\n",
       "      <td>3802</td>\n",
       "      <td>48754</td>\n",
       "      <td>U</td>\n",
       "      <td>16-03-2020</td>\n",
       "      <td>My food stock is not the only one which is empty...\\r\\r\\n\\r\\r\\nPLEASE, don't panic, THERE WILL BE ENOUGH FOOD FOR EVERYONE if you do not take more than you need. \\r\\r\\nStay calm, stay safe.\\r\\r\\n\\...</td>\n",
       "      <td>Positive</td>\n",
       "    </tr>\n",
       "    <tr>\n",
       "      <th>4</th>\n",
       "      <td>3803</td>\n",
       "      <td>48755</td>\n",
       "      <td>U</td>\n",
       "      <td>16-03-2020</td>\n",
       "      <td>Me, ready to go at supermarket during the #COVID19 outbreak.\\r\\r\\n\\r\\r\\nNot because I'm paranoid, but because my food stock is litteraly empty. The #coronavirus is a serious thing, but please, don...</td>\n",
       "      <td>Extremely Negative</td>\n",
       "    </tr>\n",
       "  </tbody>\n",
       "</table>\n",
       "</div>"
      ],
      "text/plain": [
       "   UserName  ScreenName   Location     TweetAt  \\\n",
       "0      3799       48751     London  16-03-2020   \n",
       "1      3800       48752         UK  16-03-2020   \n",
       "2      3801       48753  Vagabonds  16-03-2020   \n",
       "3      3802       48754          U  16-03-2020   \n",
       "4      3803       48755          U  16-03-2020   \n",
       "\n",
       "                                                                                                                                                                                             OriginalTweet  \\\n",
       "0                                                                                          @MeNyrbie @Phil_Gahan @Chrisitv https://t.co/iFz9FAn2Pa and https://t.co/xX6ghGFzCC and https://t.co/I2NlzdxNo8   \n",
       "1  advice Talk to your neighbours family to exchange phone numbers create contact list with phone numbers of neighbours schools employer chemist GP set up online shopping accounts if poss adequate su...   \n",
       "2                                                                      Coronavirus Australia: Woolworths to give elderly, disabled dedicated shopping hours amid COVID-19 outbreak https://t.co/bInCA9Vp8P   \n",
       "3  My food stock is not the only one which is empty...\\r\\r\\n\\r\\r\\nPLEASE, don't panic, THERE WILL BE ENOUGH FOOD FOR EVERYONE if you do not take more than you need. \\r\\r\\nStay calm, stay safe.\\r\\r\\n\\...   \n",
       "4  Me, ready to go at supermarket during the #COVID19 outbreak.\\r\\r\\n\\r\\r\\nNot because I'm paranoid, but because my food stock is litteraly empty. The #coronavirus is a serious thing, but please, don...   \n",
       "\n",
       "            Sentiment  \n",
       "0             Neutral  \n",
       "1            Positive  \n",
       "2            Positive  \n",
       "3            Positive  \n",
       "4  Extremely Negative  "
      ]
     },
     "execution_count": 12,
     "metadata": {},
     "output_type": "execute_result"
    }
   ],
   "source": [
    "df.head()"
   ]
  },
  {
   "cell_type": "code",
   "execution_count": 13,
   "id": "d3ae8973",
   "metadata": {},
   "outputs": [
    {
     "data": {
      "text/plain": [
       "U                               8592\n",
       "London                           540\n",
       "United States                    528\n",
       "London, England                  520\n",
       "New York, NY                     395\n",
       "                                ... \n",
       "Staffordshire Moorlands            1\n",
       "Kithchener ON                      1\n",
       "Tulsa, Ok                          1\n",
       "Watford, South Oxhey, Bushey       1\n",
       "i love you so much || he/him       1\n",
       "Name: Location, Length: 12220, dtype: int64"
      ]
     },
     "execution_count": 13,
     "metadata": {},
     "output_type": "execute_result"
    }
   ],
   "source": [
    "df['Location'].value_counts()"
   ]
  },
  {
   "cell_type": "code",
   "execution_count": 14,
   "id": "b24d52af",
   "metadata": {},
   "outputs": [
    {
     "data": {
      "image/png": "[encoded data removed]",
      "text/plain": [
       "<Figure size 864x432 with 1 Axes>"
      ]
     },
     "metadata": {
      "needs_background": "light"
     },
     "output_type": "display_data"
    }
   ],
   "source": [
    "plt.figure(figsize=(12,6))\n",
    "plt.title('Top Countries with highest Tweets')\n",
    "countries =sns.countplot(x='Location', data=df, order=df['Location'].value_counts().index[:10])\n",
    "countries.set_xticklabels(countries.get_xticklabels(), rotation=45)\n",
    "plt.show() \n"
   ]
  },
  {
   "cell_type": "code",
   "execution_count": 15,
   "id": "a06e922b",
   "metadata": {},
   "outputs": [],
   "source": [
    "# HERE 'U' IS THE UNKNOWN"
   ]
  },
  {
   "cell_type": "code",
   "execution_count": 16,
   "id": "7cf620b5",
   "metadata": {},
   "outputs": [
    {
     "data": {
      "text/plain": [
       "Positive              11422\n",
       "Negative               9917\n",
       "Neutral                7713\n",
       "Extremely Positive     6624\n",
       "Extremely Negative     5481\n",
       "Name: Sentiment, dtype: int64"
      ]
     },
     "execution_count": 16,
     "metadata": {},
     "output_type": "execute_result"
    }
   ],
   "source": [
    "df['Sentiment'].value_counts()"
   ]
  },
  {
   "cell_type": "code",
   "execution_count": 17,
   "id": "315de1f0",
   "metadata": {},
   "outputs": [
    {
     "data": {
      "image/png": "[encoded data removed]",
      "text/plain": [
       "<Figure size 792x504 with 1 Axes>"
      ]
     },
     "metadata": {},
     "output_type": "display_data"
    }
   ],
   "source": [
    "plt.figure(figsize=(11,7))\n",
    "plt.pie(df['Sentiment'].value_counts(), labels=df['Sentiment'].unique(), autopct='%.1f%%', textprops={'color':\"w\"})\n",
    "plt.legend(loc='upper left')\n",
    "plt.axis('equal')\n",
    "plt.show()"
   ]
  },
  {
   "cell_type": "code",
   "execution_count": 18,
   "id": "dd4c81b4",
   "metadata": {},
   "outputs": [
    {
     "data": {
      "text/plain": [
       "20-03-2020    3448\n",
       "19-03-2020    3215\n",
       "25-03-2020    2979\n",
       "18-03-2020    2742\n",
       "21-03-2020    2653\n",
       "22-03-2020    2114\n",
       "23-03-2020    2062\n",
       "17-03-2020    1977\n",
       "08-04-2020    1881\n",
       "07-04-2020    1843\n",
       "06-04-2020    1742\n",
       "24-03-2020    1480\n",
       "09-04-2020    1471\n",
       "13-04-2020    1428\n",
       "26-03-2020    1277\n",
       "05-04-2020    1131\n",
       "10-04-2020    1005\n",
       "02-04-2020     954\n",
       "11-04-2020     909\n",
       "03-04-2020     810\n",
       "12-04-2020     803\n",
       "04-04-2020     767\n",
       "16-03-2020     656\n",
       "01-04-2020     630\n",
       "27-03-2020     345\n",
       "31-03-2020     316\n",
       "14-04-2020     284\n",
       "29-03-2020     125\n",
       "30-03-2020      87\n",
       "28-03-2020      23\n",
       "Name: TweetAt, dtype: int64"
      ]
     },
     "execution_count": 18,
     "metadata": {},
     "output_type": "execute_result"
    }
   ],
   "source": [
    "df.TweetAt.value_counts()"
   ]
  },
  {
   "cell_type": "markdown",
   "id": "c4cd1b1d",
   "metadata": {},
   "source": [
    "# DATA PROCESSING "
   ]
  },
  {
   "cell_type": "markdown",
   "id": "25a6b821",
   "metadata": {},
   "source": [
    "# A) Removing @ ,http// , urls , puntuation , umbers , special characters\n"
   ]
  },
  {
   "cell_type": "code",
   "execution_count": 19,
   "id": "18e54db7",
   "metadata": {},
   "outputs": [],
   "source": [
    "def remove_pattern(input_txt, pattern):\n",
    "    r = re.findall(pattern, input_txt)\n",
    "    for i in r:\n",
    "        input_txt = re.sub(i,'',input_txt)\n",
    "    return input_txt"
   ]
  },
  {
   "cell_type": "code",
   "execution_count": 20,
   "id": "5446928b",
   "metadata": {},
   "outputs": [],
   "source": [
    "import re\n",
    "df['Tweet'] = np.vectorize(remove_pattern)(df['OriginalTweet'], '@[\\w]*')\n",
    "df['Tweet'] = df['Tweet'].apply(lambda x: re.split('https:\\/\\/.*', str(x))[0])\n",
    "df['Tweet'] = df['Tweet'].str.replace('[^a-zA-Z#]+',' ')"
   ]
  },
  {
   "cell_type": "markdown",
   "id": "c79d3324",
   "metadata": {},
   "source": [
    "# B) Tokenization words"
   ]
  },
  {
   "cell_type": "code",
   "execution_count": 21,
   "id": "207e9679",
   "metadata": {},
   "outputs": [],
   "source": [
    "tokenized_tweet = df['Tweet'].apply(lambda x: x.split())"
   ]
  },
  {
   "cell_type": "markdown",
   "id": "30fc2fc2",
   "metadata": {},
   "source": [
    "# C) Convert words to lower case"
   ]
  },
  {
   "cell_type": "code",
   "execution_count": 22,
   "id": "87299067",
   "metadata": {},
   "outputs": [],
   "source": [
    "df[\"Tweet\"] = df[\"Tweet\"].str.lower()"
   ]
  },
  {
   "cell_type": "markdown",
   "id": "ccdb94cc",
   "metadata": {},
   "source": [
    "# D) Removing Stop words"
   ]
  },
  {
   "cell_type": "code",
   "execution_count": 23,
   "id": "215a27a9",
   "metadata": {},
   "outputs": [
    {
     "name": "stderr",
     "output_type": "stream",
     "text": [
      "[nltk_data] Downloading package stopwords to\n",
      "[nltk_data]     C:\\Users\\ZkaiTr\\AppData\\Roaming\\nltk_data...\n",
      "[nltk_data]   Package stopwords is already up-to-date!\n"
     ]
    },
    {
     "data": {
      "text/plain": [
       "True"
      ]
     },
     "execution_count": 23,
     "metadata": {},
     "output_type": "execute_result"
    }
   ],
   "source": [
    "nltk.download('stopwords')"
   ]
  },
  {
   "cell_type": "code",
   "execution_count": 24,
   "id": "6362f31b",
   "metadata": {},
   "outputs": [],
   "source": [
    "from nltk.corpus import stopwords\n",
    "stop = stopwords.words('english')"
   ]
  },
  {
   "cell_type": "code",
   "execution_count": 25,
   "id": "f2605cc3",
   "metadata": {},
   "outputs": [
    {
     "data": {
      "text/plain": [
       "0                                                                                                                                                                                                            [ ]\n",
       "1        [v, c, e,  , l, k,  ,  , u, r,  , n, e, g, h, b, u, r,  , f, l,  ,  , e, x, c, h, n, g, e,  , p, h, n, e,  , n, u, b, e, r,  , c, r, e, e,  , c, n, c,  , l,  , w, h,  , p, h, n, e,  , n, u, b, e, ...\n",
       "2                                       [c, r, n, v, r, u,  , u, r, l,  , w, l, w, r, h,  ,  , g, v, e,  , e, l, e, r, l,  , b, l, e,  , e, c, e,  , h, p, p, n, g,  , h, u, r,  ,  , c, v,  , u, b, r, e, k,  ]\n",
       "3        [ , f,  , c, k,  ,  , n,  , h, e,  , n, l,  , n, e,  , w, h, c, h,  ,  , e, p,  , p, l, e, e,  , n,  ,  , p, n, c,  , h, e, r, e,  , w, l, l,  , b, e,  , e, n, u, g, h,  , f,  , f, r,  , e, v, e, ...\n",
       "4        [e,  , r, e,  ,  , g,  ,  , u, p, e, r, r, k, e,  , u, r, n, g,  , h, e,  , #, c, v,  , u, b, r, e, k,  , n,  , b, e, c, u, e,  ,  ,  , p, r, n,  , b, u,  , b, e, c, u, e,  ,  , f,  , c, k,  ,  , ...\n",
       "                                                                                                          ...                                                                                                   \n",
       "41152                                                        [r, l, n, e,  , p, l,  , f, f, e, r, n, g,  ,  , c, k,  , u, p, e, r, r, k, e,  , h, e, l, v, e,  , n,  , #, n, z,  , l, c, k, w, n,  , #, c, v,  ]\n",
       "41153    [r, e, p, n, e,  ,  , c, p, l, n,  , n,  , p, r, v, e,  , c, n, g,  , c, v,  , r, e, l, e,  , e, l,  , e,  , p, r, p,  , n,  , r, e, j, e, c, n, g,  , p, l, c,  , b, e, f, r, e,  , c, n, u, e, r, ...\n",
       "41154    [u,  , k, n, w,  ,  ,  , g, e, n, g,  , u, g, h,  , w, h, e, n,  ,  , r, n, n, g,  , l, e,  , p, p, e, r,  , #, c, r, n, v, r, u,  , #, l, e, p, p, e, r,  , r, n, v, l, l, e,  , h, e, l, p,  , u, ...\n",
       "41155                          [ ,  , w, r, n, g,  , h,  , h, e,  , e, l, l,  , f,  , h, n,  , n, z, e, r,  ,  , r, n, g,  ,  , u, r, n,  , e,  , n,  , #, c, r, n, v, r, u,  , #, c, v,  , #, c, r, n, v, r, u]\n",
       "41156    [ , w, e, l, l,  , n, e, w,  , u, e,  , r, f,  ,  , r, e,  , g, n, g,  , f, r,  , n,  , z, n,  , r, n,  , l, h, u, g, h,  , h, e,  , n, r, l,  , r, k, e,  , p, r, c, e,  ,  , u, u, l, l,  , p, r, ...\n",
       "Name: Tweet, Length: 41157, dtype: object"
      ]
     },
     "execution_count": 25,
     "metadata": {},
     "output_type": "execute_result"
    }
   ],
   "source": [
    "df['Tweet'].apply(lambda x: [item for item in x if item not in stop])"
   ]
  },
  {
   "cell_type": "markdown",
   "id": "5f57a43d",
   "metadata": {},
   "source": [
    "# E) Stemming words"
   ]
  },
  {
   "cell_type": "code",
   "execution_count": 26,
   "id": "44e683a0",
   "metadata": {},
   "outputs": [],
   "source": [
    "from nltk.stem.porter import *\n",
    "stemmer = PorterStemmer()\n",
    "tokenized_tweet = tokenized_tweet.apply(lambda x: [stemmer.stem(i) for i in x])"
   ]
  },
  {
   "cell_type": "code",
   "execution_count": 27,
   "id": "75db371a",
   "metadata": {},
   "outputs": [],
   "source": [
    "for i in range(len(tokenized_tweet)):\n",
    "    tokenized_tweet[i] = ' '.join(tokenized_tweet[i])"
   ]
  },
  {
   "cell_type": "code",
   "execution_count": 28,
   "id": "587f0a92",
   "metadata": {},
   "outputs": [],
   "source": [
    "df['Tweet']  = tokenized_tweet"
   ]
  },
  {
   "cell_type": "code",
   "execution_count": 29,
   "id": "457b000f",
   "metadata": {},
   "outputs": [
    {
     "data": {
      "text/html": [
       "<div>\n",
       "<style scoped>\n",
       "    .dataframe tbody tr th:only-of-type {\n",
       "        vertical-align: middle;\n",
       "    }\n",
       "\n",
       "    .dataframe tbody tr th {\n",
       "        vertical-align: top;\n",
       "    }\n",
       "\n",
       "    .dataframe thead th {\n",
       "        text-align: right;\n",
       "    }\n",
       "</style>\n",
       "<table border=\"1\" class=\"dataframe\">\n",
       "  <thead>\n",
       "    <tr style=\"text-align: right;\">\n",
       "      <th></th>\n",
       "      <th>UserName</th>\n",
       "      <th>ScreenName</th>\n",
       "      <th>Location</th>\n",
       "      <th>TweetAt</th>\n",
       "      <th>OriginalTweet</th>\n",
       "      <th>Sentiment</th>\n",
       "      <th>Tweet</th>\n",
       "    </tr>\n",
       "  </thead>\n",
       "  <tbody>\n",
       "    <tr>\n",
       "      <th>0</th>\n",
       "      <td>3799</td>\n",
       "      <td>48751</td>\n",
       "      <td>London</td>\n",
       "      <td>16-03-2020</td>\n",
       "      <td>@MeNyrbie @Phil_Gahan @Chrisitv https://t.co/iFz9FAn2Pa and https://t.co/xX6ghGFzCC and https://t.co/I2NlzdxNo8</td>\n",
       "      <td>Neutral</td>\n",
       "      <td></td>\n",
       "    </tr>\n",
       "    <tr>\n",
       "      <th>1</th>\n",
       "      <td>3800</td>\n",
       "      <td>48752</td>\n",
       "      <td>UK</td>\n",
       "      <td>16-03-2020</td>\n",
       "      <td>advice Talk to your neighbours family to exchange phone numbers create contact list with phone numbers of neighbours schools employer chemist GP set up online shopping accounts if poss adequate su...</td>\n",
       "      <td>Positive</td>\n",
       "      <td>advic talk to your neighbour famili to exchang phone number creat contact list with phone number of neighbour school employ chemist gp set up onlin shop account if poss adequ suppli of regular med...</td>\n",
       "    </tr>\n",
       "    <tr>\n",
       "      <th>2</th>\n",
       "      <td>3801</td>\n",
       "      <td>48753</td>\n",
       "      <td>Vagabonds</td>\n",
       "      <td>16-03-2020</td>\n",
       "      <td>Coronavirus Australia: Woolworths to give elderly, disabled dedicated shopping hours amid COVID-19 outbreak https://t.co/bInCA9Vp8P</td>\n",
       "      <td>Positive</td>\n",
       "      <td>coronaviru australia woolworth to give elderli disabl dedic shop hour amid covid outbreak</td>\n",
       "    </tr>\n",
       "    <tr>\n",
       "      <th>3</th>\n",
       "      <td>3802</td>\n",
       "      <td>48754</td>\n",
       "      <td>U</td>\n",
       "      <td>16-03-2020</td>\n",
       "      <td>My food stock is not the only one which is empty...\\r\\r\\n\\r\\r\\nPLEASE, don't panic, THERE WILL BE ENOUGH FOOD FOR EVERYONE if you do not take more than you need. \\r\\r\\nStay calm, stay safe.\\r\\r\\n\\...</td>\n",
       "      <td>Positive</td>\n",
       "      <td>my food stock is not the onli one which is empti pleas don t panic there will be enough food for everyon if you do not take more than you need stay calm stay safe #covid franc #covid #covid #coron...</td>\n",
       "    </tr>\n",
       "    <tr>\n",
       "      <th>4</th>\n",
       "      <td>3803</td>\n",
       "      <td>48755</td>\n",
       "      <td>U</td>\n",
       "      <td>16-03-2020</td>\n",
       "      <td>Me, ready to go at supermarket during the #COVID19 outbreak.\\r\\r\\n\\r\\r\\nNot because I'm paranoid, but because my food stock is litteraly empty. The #coronavirus is a serious thing, but please, don...</td>\n",
       "      <td>Extremely Negative</td>\n",
       "      <td>me readi to go at supermarket dure the #covid outbreak not becaus i m paranoid but becaus my food stock is litterali empti the #coronaviru is a seriou thing but pleas don t panic it caus shortag #...</td>\n",
       "    </tr>\n",
       "  </tbody>\n",
       "</table>\n",
       "</div>"
      ],
      "text/plain": [
       "   UserName  ScreenName   Location     TweetAt  \\\n",
       "0      3799       48751     London  16-03-2020   \n",
       "1      3800       48752         UK  16-03-2020   \n",
       "2      3801       48753  Vagabonds  16-03-2020   \n",
       "3      3802       48754          U  16-03-2020   \n",
       "4      3803       48755          U  16-03-2020   \n",
       "\n",
       "                                                                                                                                                                                             OriginalTweet  \\\n",
       "0                                                                                          @MeNyrbie @Phil_Gahan @Chrisitv https://t.co/iFz9FAn2Pa and https://t.co/xX6ghGFzCC and https://t.co/I2NlzdxNo8   \n",
       "1  advice Talk to your neighbours family to exchange phone numbers create contact list with phone numbers of neighbours schools employer chemist GP set up online shopping accounts if poss adequate su...   \n",
       "2                                                                      Coronavirus Australia: Woolworths to give elderly, disabled dedicated shopping hours amid COVID-19 outbreak https://t.co/bInCA9Vp8P   \n",
       "3  My food stock is not the only one which is empty...\\r\\r\\n\\r\\r\\nPLEASE, don't panic, THERE WILL BE ENOUGH FOOD FOR EVERYONE if you do not take more than you need. \\r\\r\\nStay calm, stay safe.\\r\\r\\n\\...   \n",
       "4  Me, ready to go at supermarket during the #COVID19 outbreak.\\r\\r\\n\\r\\r\\nNot because I'm paranoid, but because my food stock is litteraly empty. The #coronavirus is a serious thing, but please, don...   \n",
       "\n",
       "            Sentiment  \\\n",
       "0             Neutral   \n",
       "1            Positive   \n",
       "2            Positive   \n",
       "3            Positive   \n",
       "4  Extremely Negative   \n",
       "\n",
       "                                                                                                                                                                                                     Tweet  \n",
       "0                                                                                                                                                                                                           \n",
       "1  advic talk to your neighbour famili to exchang phone number creat contact list with phone number of neighbour school employ chemist gp set up onlin shop account if poss adequ suppli of regular med...  \n",
       "2                                                                                                                coronaviru australia woolworth to give elderli disabl dedic shop hour amid covid outbreak  \n",
       "3  my food stock is not the onli one which is empti pleas don t panic there will be enough food for everyon if you do not take more than you need stay calm stay safe #covid franc #covid #covid #coron...  \n",
       "4  me readi to go at supermarket dure the #covid outbreak not becaus i m paranoid but becaus my food stock is litterali empti the #coronaviru is a seriou thing but pleas don t panic it caus shortag #...  "
      ]
     },
     "execution_count": 29,
     "metadata": {},
     "output_type": "execute_result"
    }
   ],
   "source": [
    "df.head()"
   ]
  },
  {
   "cell_type": "markdown",
   "id": "117a5578",
   "metadata": {},
   "source": [
    "# Convert the 'Extremely Positive' and 'Extremely Negative' Sentiments to 'Positive' and 'Negative' sentiments respectively"
   ]
  },
  {
   "cell_type": "code",
   "execution_count": 30,
   "id": "01b7501f",
   "metadata": {},
   "outputs": [],
   "source": [
    "SentimentMapped= {\n",
    "    'Extremely Negative': 0,\n",
    "    'Negative': 0,\n",
    "    'Neutral': 1,\n",
    "    'Positive': 2,\n",
    "    'Extremely Positive': 2\n",
    "}\n",
    "df['Sentiment']=df['Sentiment'].map(lambda x:SentimentMapped[x])"
   ]
  },
  {
   "cell_type": "code",
   "execution_count": 31,
   "id": "0c3d0f51",
   "metadata": {},
   "outputs": [
    {
     "data": {
      "text/html": [
       "<div>\n",
       "<style scoped>\n",
       "    .dataframe tbody tr th:only-of-type {\n",
       "        vertical-align: middle;\n",
       "    }\n",
       "\n",
       "    .dataframe tbody tr th {\n",
       "        vertical-align: top;\n",
       "    }\n",
       "\n",
       "    .dataframe thead th {\n",
       "        text-align: right;\n",
       "    }\n",
       "</style>\n",
       "<table border=\"1\" class=\"dataframe\">\n",
       "  <thead>\n",
       "    <tr style=\"text-align: right;\">\n",
       "      <th></th>\n",
       "      <th>UserName</th>\n",
       "      <th>ScreenName</th>\n",
       "      <th>Location</th>\n",
       "      <th>TweetAt</th>\n",
       "      <th>OriginalTweet</th>\n",
       "      <th>Sentiment</th>\n",
       "      <th>Tweet</th>\n",
       "    </tr>\n",
       "  </thead>\n",
       "  <tbody>\n",
       "    <tr>\n",
       "      <th>0</th>\n",
       "      <td>3799</td>\n",
       "      <td>48751</td>\n",
       "      <td>London</td>\n",
       "      <td>16-03-2020</td>\n",
       "      <td>@MeNyrbie @Phil_Gahan @Chrisitv https://t.co/iFz9FAn2Pa and https://t.co/xX6ghGFzCC and https://t.co/I2NlzdxNo8</td>\n",
       "      <td>1</td>\n",
       "      <td></td>\n",
       "    </tr>\n",
       "    <tr>\n",
       "      <th>1</th>\n",
       "      <td>3800</td>\n",
       "      <td>48752</td>\n",
       "      <td>UK</td>\n",
       "      <td>16-03-2020</td>\n",
       "      <td>advice Talk to your neighbours family to exchange phone numbers create contact list with phone numbers of neighbours schools employer chemist GP set up online shopping accounts if poss adequate su...</td>\n",
       "      <td>2</td>\n",
       "      <td>advic talk to your neighbour famili to exchang phone number creat contact list with phone number of neighbour school employ chemist gp set up onlin shop account if poss adequ suppli of regular med...</td>\n",
       "    </tr>\n",
       "    <tr>\n",
       "      <th>2</th>\n",
       "      <td>3801</td>\n",
       "      <td>48753</td>\n",
       "      <td>Vagabonds</td>\n",
       "      <td>16-03-2020</td>\n",
       "      <td>Coronavirus Australia: Woolworths to give elderly, disabled dedicated shopping hours amid COVID-19 outbreak https://t.co/bInCA9Vp8P</td>\n",
       "      <td>2</td>\n",
       "      <td>coronaviru australia woolworth to give elderli disabl dedic shop hour amid covid outbreak</td>\n",
       "    </tr>\n",
       "    <tr>\n",
       "      <th>3</th>\n",
       "      <td>3802</td>\n",
       "      <td>48754</td>\n",
       "      <td>U</td>\n",
       "      <td>16-03-2020</td>\n",
       "      <td>My food stock is not the only one which is empty...\\r\\r\\n\\r\\r\\nPLEASE, don't panic, THERE WILL BE ENOUGH FOOD FOR EVERYONE if you do not take more than you need. \\r\\r\\nStay calm, stay safe.\\r\\r\\n\\...</td>\n",
       "      <td>2</td>\n",
       "      <td>my food stock is not the onli one which is empti pleas don t panic there will be enough food for everyon if you do not take more than you need stay calm stay safe #covid franc #covid #covid #coron...</td>\n",
       "    </tr>\n",
       "    <tr>\n",
       "      <th>4</th>\n",
       "      <td>3803</td>\n",
       "      <td>48755</td>\n",
       "      <td>U</td>\n",
       "      <td>16-03-2020</td>\n",
       "      <td>Me, ready to go at supermarket during the #COVID19 outbreak.\\r\\r\\n\\r\\r\\nNot because I'm paranoid, but because my food stock is litteraly empty. The #coronavirus is a serious thing, but please, don...</td>\n",
       "      <td>0</td>\n",
       "      <td>me readi to go at supermarket dure the #covid outbreak not becaus i m paranoid but becaus my food stock is litterali empti the #coronaviru is a seriou thing but pleas don t panic it caus shortag #...</td>\n",
       "    </tr>\n",
       "  </tbody>\n",
       "</table>\n",
       "</div>"
      ],
      "text/plain": [
       "   UserName  ScreenName   Location     TweetAt  \\\n",
       "0      3799       48751     London  16-03-2020   \n",
       "1      3800       48752         UK  16-03-2020   \n",
       "2      3801       48753  Vagabonds  16-03-2020   \n",
       "3      3802       48754          U  16-03-2020   \n",
       "4      3803       48755          U  16-03-2020   \n",
       "\n",
       "                                                                                                                                                                                             OriginalTweet  \\\n",
       "0                                                                                          @MeNyrbie @Phil_Gahan @Chrisitv https://t.co/iFz9FAn2Pa and https://t.co/xX6ghGFzCC and https://t.co/I2NlzdxNo8   \n",
       "1  advice Talk to your neighbours family to exchange phone numbers create contact list with phone numbers of neighbours schools employer chemist GP set up online shopping accounts if poss adequate su...   \n",
       "2                                                                      Coronavirus Australia: Woolworths to give elderly, disabled dedicated shopping hours amid COVID-19 outbreak https://t.co/bInCA9Vp8P   \n",
       "3  My food stock is not the only one which is empty...\\r\\r\\n\\r\\r\\nPLEASE, don't panic, THERE WILL BE ENOUGH FOOD FOR EVERYONE if you do not take more than you need. \\r\\r\\nStay calm, stay safe.\\r\\r\\n\\...   \n",
       "4  Me, ready to go at supermarket during the #COVID19 outbreak.\\r\\r\\n\\r\\r\\nNot because I'm paranoid, but because my food stock is litteraly empty. The #coronavirus is a serious thing, but please, don...   \n",
       "\n",
       "   Sentiment  \\\n",
       "0          1   \n",
       "1          2   \n",
       "2          2   \n",
       "3          2   \n",
       "4          0   \n",
       "\n",
       "                                                                                                                                                                                                     Tweet  \n",
       "0                                                                                                                                                                                                           \n",
       "1  advic talk to your neighbour famili to exchang phone number creat contact list with phone number of neighbour school employ chemist gp set up onlin shop account if poss adequ suppli of regular med...  \n",
       "2                                                                                                                coronaviru australia woolworth to give elderli disabl dedic shop hour amid covid outbreak  \n",
       "3  my food stock is not the onli one which is empti pleas don t panic there will be enough food for everyon if you do not take more than you need stay calm stay safe #covid franc #covid #covid #coron...  \n",
       "4  me readi to go at supermarket dure the #covid outbreak not becaus i m paranoid but becaus my food stock is litterali empti the #coronaviru is a seriou thing but pleas don t panic it caus shortag #...  "
      ]
     },
     "execution_count": 31,
     "metadata": {},
     "output_type": "execute_result"
    }
   ],
   "source": [
    "df.head()"
   ]
  },
  {
   "cell_type": "markdown",
   "id": "5fe1ee4d",
   "metadata": {},
   "source": [
    "# Split data into training and test data "
   ]
  },
  {
   "cell_type": "code",
   "execution_count": 32,
   "id": "c746b486",
   "metadata": {},
   "outputs": [],
   "source": [
    "data = df[['Tweet','Sentiment']]"
   ]
  },
  {
   "cell_type": "code",
   "execution_count": 33,
   "id": "f6a84909",
   "metadata": {},
   "outputs": [
    {
     "data": {
      "text/html": [
       "<div>\n",
       "<style scoped>\n",
       "    .dataframe tbody tr th:only-of-type {\n",
       "        vertical-align: middle;\n",
       "    }\n",
       "\n",
       "    .dataframe tbody tr th {\n",
       "        vertical-align: top;\n",
       "    }\n",
       "\n",
       "    .dataframe thead th {\n",
       "        text-align: right;\n",
       "    }\n",
       "</style>\n",
       "<table border=\"1\" class=\"dataframe\">\n",
       "  <thead>\n",
       "    <tr style=\"text-align: right;\">\n",
       "      <th></th>\n",
       "      <th>Tweet</th>\n",
       "      <th>Sentiment</th>\n",
       "    </tr>\n",
       "  </thead>\n",
       "  <tbody>\n",
       "    <tr>\n",
       "      <th>0</th>\n",
       "      <td></td>\n",
       "      <td>1</td>\n",
       "    </tr>\n",
       "    <tr>\n",
       "      <th>1</th>\n",
       "      <td>advic talk to your neighbour famili to exchang phone number creat contact list with phone number of neighbour school employ chemist gp set up onlin shop account if poss adequ suppli of regular med...</td>\n",
       "      <td>2</td>\n",
       "    </tr>\n",
       "    <tr>\n",
       "      <th>2</th>\n",
       "      <td>coronaviru australia woolworth to give elderli disabl dedic shop hour amid covid outbreak</td>\n",
       "      <td>2</td>\n",
       "    </tr>\n",
       "    <tr>\n",
       "      <th>3</th>\n",
       "      <td>my food stock is not the onli one which is empti pleas don t panic there will be enough food for everyon if you do not take more than you need stay calm stay safe #covid franc #covid #covid #coron...</td>\n",
       "      <td>2</td>\n",
       "    </tr>\n",
       "    <tr>\n",
       "      <th>4</th>\n",
       "      <td>me readi to go at supermarket dure the #covid outbreak not becaus i m paranoid but becaus my food stock is litterali empti the #coronaviru is a seriou thing but pleas don t panic it caus shortag #...</td>\n",
       "      <td>0</td>\n",
       "    </tr>\n",
       "  </tbody>\n",
       "</table>\n",
       "</div>"
      ],
      "text/plain": [
       "                                                                                                                                                                                                     Tweet  \\\n",
       "0                                                                                                                                                                                                            \n",
       "1  advic talk to your neighbour famili to exchang phone number creat contact list with phone number of neighbour school employ chemist gp set up onlin shop account if poss adequ suppli of regular med...   \n",
       "2                                                                                                                coronaviru australia woolworth to give elderli disabl dedic shop hour amid covid outbreak   \n",
       "3  my food stock is not the onli one which is empti pleas don t panic there will be enough food for everyon if you do not take more than you need stay calm stay safe #covid franc #covid #covid #coron...   \n",
       "4  me readi to go at supermarket dure the #covid outbreak not becaus i m paranoid but becaus my food stock is litterali empti the #coronaviru is a seriou thing but pleas don t panic it caus shortag #...   \n",
       "\n",
       "   Sentiment  \n",
       "0          1  \n",
       "1          2  \n",
       "2          2  \n",
       "3          2  \n",
       "4          0  "
      ]
     },
     "execution_count": 33,
     "metadata": {},
     "output_type": "execute_result"
    }
   ],
   "source": [
    "data.head()"
   ]
  },
  {
   "cell_type": "code",
   "execution_count": 34,
   "id": "9e3a8fad",
   "metadata": {},
   "outputs": [
    {
     "data": {
      "text/plain": [
       "(41157, 2)"
      ]
     },
     "execution_count": 34,
     "metadata": {},
     "output_type": "execute_result"
    }
   ],
   "source": [
    "data.shape"
   ]
  },
  {
   "cell_type": "code",
   "execution_count": 35,
   "id": "496dcc1e",
   "metadata": {},
   "outputs": [],
   "source": [
    "from sklearn.model_selection import train_test_split\n",
    "train,test = train_test_split(data,test_size = 0.2,random_state=0,stratify = data.Sentiment.values)"
   ]
  },
  {
   "cell_type": "code",
   "execution_count": 36,
   "id": "18004577",
   "metadata": {},
   "outputs": [
    {
     "name": "stdout",
     "output_type": "stream",
     "text": [
      "train shape :  (32925, 2)\n",
      "test shape :  (8232, 2)\n"
     ]
    }
   ],
   "source": [
    "print(\"train shape : \", train.shape)\n",
    "print(\"test shape : \", test.shape)"
   ]
  },
  {
   "cell_type": "markdown",
   "id": "f34b356a",
   "metadata": {},
   "source": [
    "# Transform the words into vectors using\n",
    " Count Vectorizer"
   ]
  },
  {
   "cell_type": "code",
   "execution_count": 37,
   "id": "7ae8d8bd",
   "metadata": {},
   "outputs": [
    {
     "name": "stdout",
     "output_type": "stream",
     "text": [
      "X_train.shape :  (32925, 27328)\n",
      "X_train.shape :  (8232, 27328)\n",
      "y_train.shape :  (32925,)\n",
      "y_valid.shape :  (8232,)\n"
     ]
    }
   ],
   "source": [
    "from sklearn.feature_extraction.text import CountVectorizer\n",
    "from nltk.corpus import stopwords\n",
    "stop = list(stopwords.words('english'))\n",
    "vectorizer = CountVectorizer(decode_error = 'replace',stop_words = stop)\n",
    "\n",
    "X_train = vectorizer.fit_transform(train.Tweet.values)\n",
    "X_valid = vectorizer.transform(test.Tweet.values)\n",
    "\n",
    "y_train = train.Sentiment.values\n",
    "y_valid = test.Sentiment.values\n",
    "\n",
    "print(\"X_train.shape : \", X_train.shape)\n",
    "print(\"X_train.shape : \", X_valid.shape)\n",
    "print(\"y_train.shape : \", y_train.shape)\n",
    "print(\"y_valid.shape : \", y_valid.shape)"
   ]
  },
  {
   "cell_type": "markdown",
   "id": "8e172323",
   "metadata": {},
   "source": [
    "# Applying the following models on the training dataset and generate the predicted value for the test dataset\n",
    "## A) Multinomial Naïve Bayes Classification\n",
    "## B) SVM Classification\n",
    "## C) KNN Classification"
   ]
  },
  {
   "cell_type": "markdown",
   "id": "c987455d",
   "metadata": {},
   "source": [
    "# Multinomial Naïve Bayes Classification "
   ]
  },
  {
   "cell_type": "code",
   "execution_count": 45,
   "id": "267286d1",
   "metadata": {},
   "outputs": [
    {
     "data": {
      "text/plain": [
       "MultinomialNB()"
      ]
     },
     "execution_count": 45,
     "metadata": {},
     "output_type": "execute_result"
    }
   ],
   "source": [
    "from sklearn.naive_bayes import MultinomialNB\n",
    "from sklearn.metrics import accuracy_score\n",
    "from sklearn.metrics import classification_report\n",
    "\n",
    "naiveByes_clf = MultinomialNB()\n",
    "naiveByes_clf.fit(X_train,y_train)"
   ]
  },
  {
   "cell_type": "code",
   "execution_count": 46,
   "id": "1cb0c03f",
   "metadata": {},
   "outputs": [
    {
     "name": "stdout",
     "output_type": "stream",
     "text": [
      "training accuracy Score    :  0.7814426727410783\n",
      "Validation accuracy Score :  0.685131195335277\n",
      "              precision    recall  f1-score   support\n",
      "\n",
      "           0       0.76      0.68      0.72      3450\n",
      "           1       0.26      0.70      0.38       572\n",
      "           2       0.80      0.69      0.74      4210\n",
      "\n",
      "    accuracy                           0.69      8232\n",
      "   macro avg       0.61      0.69      0.61      8232\n",
      "weighted avg       0.75      0.69      0.71      8232\n",
      "\n"
     ]
    }
   ],
   "source": [
    "NBC_prediction = naiveByes_clf.predict(X_valid)\n",
    "NBC_accuracy = accuracy_score(y_valid,NBC_prediction)\n",
    "print(\"training accuracy Score    : \",naiveByes_clf.score(X_train,y_train))\n",
    "print(\"Validation accuracy Score : \",NBC_accuracy )\n",
    "print(classification_report(NBC_prediction,y_valid))"
   ]
  },
  {
   "cell_type": "markdown",
   "id": "fa1c5dbc",
   "metadata": {},
   "source": [
    "# SVM Classification"
   ]
  },
  {
   "cell_type": "code",
   "execution_count": 42,
   "id": "aaf1ecae",
   "metadata": {},
   "outputs": [
    {
     "data": {
      "text/plain": [
       "SVC()"
      ]
     },
     "execution_count": 42,
     "metadata": {},
     "output_type": "execute_result"
    }
   ],
   "source": [
    "from sklearn.svm import SVC\n",
    "\n",
    "svc = SVC()\n",
    "\n",
    "svc.fit(X_train, y_train)"
   ]
  },
  {
   "cell_type": "code",
   "execution_count": 43,
   "id": "47c430b9",
   "metadata": {},
   "outputs": [
    {
     "name": "stdout",
     "output_type": "stream",
     "text": [
      "Training accuracy Score    :  0.9349734244495065\n",
      "Validation accuracy Score :  0.7717444120505345\n",
      "              precision    recall  f1-score   support\n",
      "\n",
      "           0       0.77      0.79      0.78      3017\n",
      "           1       0.65      0.66      0.66      1518\n",
      "           2       0.82      0.80      0.81      3697\n",
      "\n",
      "    accuracy                           0.77      8232\n",
      "   macro avg       0.75      0.75      0.75      8232\n",
      "weighted avg       0.77      0.77      0.77      8232\n",
      "\n"
     ]
    }
   ],
   "source": [
    "svc_prediction = svc.predict(X_valid)\n",
    "svc_accuracy = accuracy_score(y_valid,svc_prediction)\n",
    "print(\"Training accuracy Score    : \",svc.score(X_train,y_train))\n",
    "print(\"Validation accuracy Score : \",svc_accuracy )\n",
    "print(classification_report(svc_prediction,y_valid))"
   ]
  },
  {
   "cell_type": "markdown",
   "id": "647fadb7",
   "metadata": {},
   "source": [
    "# KNN Classification"
   ]
  },
  {
   "cell_type": "code",
   "execution_count": 40,
   "id": "f3bd934d",
   "metadata": {},
   "outputs": [
    {
     "data": {
      "text/plain": [
       "KNeighborsClassifier(n_neighbors=3)"
      ]
     },
     "execution_count": 40,
     "metadata": {},
     "output_type": "execute_result"
    }
   ],
   "source": [
    "from sklearn.neighbors import KNeighborsClassifier\n",
    "knn = KNeighborsClassifier(n_neighbors=3)\n",
    "knn.fit(X_train, y_train)"
   ]
  },
  {
   "cell_type": "code",
   "execution_count": 41,
   "id": "fa9177f4",
   "metadata": {},
   "outputs": [
    {
     "name": "stdout",
     "output_type": "stream",
     "text": [
      "Training accuracy Score    :  0.5968109339407744\n",
      "Testing accuracy Score :  0.3869047619047619\n",
      "              precision    recall  f1-score   support\n",
      "\n",
      "           0       0.31      0.62      0.42      1535\n",
      "           1       0.88      0.24      0.38      5527\n",
      "           2       0.24      0.75      0.37      1170\n",
      "\n",
      "    accuracy                           0.39      8232\n",
      "   macro avg       0.48      0.54      0.39      8232\n",
      "weighted avg       0.68      0.39      0.39      8232\n",
      "\n"
     ]
    }
   ],
   "source": [
    "knn_prediction = knn.predict(X_valid)\n",
    "knn_accuracy = accuracy_score(y_valid,knn_prediction)\n",
    "print(\"Training accuracy Score    : \",knn.score(X_train,y_train))\n",
    "print(\"Testing accuracy Score : \",knn_accuracy )\n",
    "print(classification_report(knn_prediction,y_valid)) "
   ]
  },
  {
   "cell_type": "markdown",
   "id": "a755d902",
   "metadata": {},
   "source": [
    "# Confusion Matrices "
   ]
  },
  {
   "cell_type": "code",
   "execution_count": 47,
   "id": "88c079de",
   "metadata": {},
   "outputs": [
    {
     "data": {
      "text/plain": [
       "Text(0.5, 1.0, 'Training and Testing Scores')"
      ]
     },
     "execution_count": 47,
     "metadata": {},
     "output_type": "execute_result"
    },
    {
     "data": {
      "image/png": "[encoded data removed]",
      "text/plain": [
       "<Figure size 432x288 with 1 Axes>"
      ]
     },
     "metadata": {
      "needs_background": "light"
     },
     "output_type": "display_data"
    }
   ],
   "source": [
    "trainScores = [naiveByes_clf.score(X_train,y_train), svc.score(X_train,y_train), knn.score(X_train,y_train)]\n",
    "testScores = [NBC_accuracy, svc_accuracy, knn_accuracy]\n",
    "indices = ['Naïve Bayes', 'SVM', 'KNN']\n",
    "scores = pd.DataFrame({'Training Score': trainScores,'Testing Score': testScores}, index=indices)\n",
    "plot = scores.plot.bar(rot=0)\n",
    "plt.title('Training and Testing Scores')"
   ]
  },
  {
   "cell_type": "code",
   "execution_count": 51,
   "id": "047890ea",
   "metadata": {},
   "outputs": [],
   "source": [
    "NBC_prediction = naiveByes_clf.predict(X_valid)\n",
    "svc_prediction = svc.predict(X_valid)\n",
    "knn_prediction = knn.predict(X_valid)\n",
    "predVals = pd.DataFrame(data={'truth': y_valid, 'Naïve Bayes': NBC_prediction, 'SVM': svc_prediction, 'knn': knn_prediction})"
   ]
  },
  {
   "cell_type": "code",
   "execution_count": 54,
   "id": "7a7b5e4c",
   "metadata": {},
   "outputs": [
    {
     "data": {
      "text/plain": [
       "[Text(0.5, 1.0, 'Naïve Bayes')]"
      ]
     },
     "execution_count": 54,
     "metadata": {},
     "output_type": "execute_result"
    },
    {
     "data": {
      "image/png": "[encoded data removed]",
      "text/plain": [
       "<Figure size 1440x288 with 2 Axes>"
      ]
     },
     "metadata": {
      "needs_background": "light"
     },
     "output_type": "display_data"
    }
   ],
   "source": [
    "plt.figure(figsize=(20, 4))\n",
    "plt.subplot(1, 4, 1)\n",
    "sns.heatmap(sklearn.metrics.confusion_matrix(y_valid, NBC_prediction), annot=True).set(title='Naïve Bayes')"
   ]
  },
  {
   "cell_type": "code",
   "execution_count": 55,
   "id": "99c0ce07",
   "metadata": {},
   "outputs": [
    {
     "data": {
      "text/plain": [
       "[Text(0.5, 1.0, 'SVM')]"
      ]
     },
     "execution_count": 55,
     "metadata": {},
     "output_type": "execute_result"
    },
    {
     "data": {
      "image/png": "[encoded data removed]",
      "text/plain": [
       "<Figure size 1440x288 with 2 Axes>"
      ]
     },
     "metadata": {
      "needs_background": "light"
     },
     "output_type": "display_data"
    }
   ],
   "source": [
    "plt.figure(figsize=(20, 4))\n",
    "plt.subplot(1, 4, 1)\n",
    "sns.heatmap(sklearn.metrics.confusion_matrix(y_valid, svc_prediction), annot=True).set(title='SVM')"
   ]
  },
  {
   "cell_type": "code",
   "execution_count": 56,
   "id": "1338014f",
   "metadata": {},
   "outputs": [
    {
     "data": {
      "text/plain": [
       "[Text(0.5, 1.0, 'KNN')]"
      ]
     },
     "execution_count": 56,
     "metadata": {},
     "output_type": "execute_result"
    },
    {
     "data": {
      "image/png": "[encoded data removed]",
      "text/plain": [
       "<Figure size 1440x288 with 2 Axes>"
      ]
     },
     "metadata": {
      "needs_background": "light"
     },
     "output_type": "display_data"
    }
   ],
   "source": [
    "plt.figure(figsize=(20, 4))\n",
    "plt.subplot(1, 4, 1)\n",
    "sns.heatmap(sklearn.metrics.confusion_matrix(y_valid, knn_prediction), annot=True).set(title='KNN')"
   ]
  },
  {
   "cell_type": "markdown",
   "id": "d9413775",
   "metadata": {},
   "source": [
    "# Reporting the Model with the 'Best Accuracy'"
   ]
  },
  {
   "cell_type": "markdown",
   "id": "6801517b",
   "metadata": {},
   "source": [
    "## SVM has the best accuracy."
   ]
  },
  {
   "cell_type": "markdown",
   "id": "645b0002",
   "metadata": {},
   "source": [
    "### THANK YOU  "
   ]
  },
  {
   "cell_type": "code",
   "execution_count": null,
   "id": "cf4ded62",
   "metadata": {},
   "outputs": [],
   "source": []
  }
 ],
 "metadata": {
  "kernelspec": {
   "display_name": "Python 3 (ipykernel)",
   "language": "python",
   "name": "python3"
  },
  "language_info": {
   "codemirror_mode": {
    "name": "ipython",
    "version": 3
   },
   "file_extension": ".py",
   "mimetype": "text/x-python",
   "name": "python",
   "nbconvert_exporter": "python",
   "pygments_lexer": "ipython3",
   "version": "3.9.12"
  }
 },
 "nbformat": 4,
 "nbformat_minor": 5
}
